{
 "cells": [
  {
   "cell_type": "code",
   "execution_count": 1,
   "id": "e8299d08-0cc8-4453-bc6f-e9677ba1eed0",
   "metadata": {},
   "outputs": [],
   "source": [
    "import numpy as np\n",
    "\n",
    "from matplotlib import pyplot as plt \n",
    "\n",
    "with open(\"datafile.csv\") as file_name:\n",
    "    dataarray = np.loadtxt(file_name, delimiter=\", \", skiprows=1)\n",
    "\n",
    "mwlist = []\n",
    "\n",
    "\n"
   ]
  },
  {
   "cell_type": "raw",
   "id": "e89952fc-fdb9-424a-8162-55ab93c10e97",
   "metadata": {},
   "source": [
    "import pandas as pd\n",
    "events = pd.read_csv('datafile.csv')\n",
    "events.head()"
   ]
  },
  {
   "cell_type": "code",
   "execution_count": 21,
   "id": "7c3bd392-ecbc-4ddf-8dd3-876d4c45aedc",
   "metadata": {},
   "outputs": [
    {
     "data": {
      "text/plain": [
       "nan"
      ]
     },
     "execution_count": 21,
     "metadata": {},
     "output_type": "execute_result"
    }
   ],
   "source": [
    "with open(\"datafile.csv\") as file_name:\n",
    "    dataarray = np.loadtxt(file_name, delimiter=\", \", skiprows=1)\n",
    "\n",
    "mwlist1 = []\n",
    "\n",
    "c=3*10^8\n",
    " #3 possibilities to pair 2 jets:j1j2, j1j3, j2j3\n",
    "mwlist1 = []\n",
    "for line in dataarray:\n",
    "    mj1j2= np.sqrt((line[13]+line[17])**2-(line[14]+line[18])**2-(line[15]+line[19])**2-(line[16]+line[20])**2)/1000\n",
    "    if abs(mj1j2-80)<40: #filtered the data \n",
    "        mwlist1.append(mj1j2) # added values in a list\n",
    "np.mean(mwlist\n",
    "        \n",
    "# line 13 is J1\n",
    "    "
   ]
  },
  {
   "cell_type": "code",
   "execution_count": 23,
   "id": "d0c761c5-f233-461f-a831-a338357cd93b",
   "metadata": {},
   "outputs": [
    {
     "data": {
      "text/plain": [
       "81.18074164591046"
      ]
     },
     "execution_count": 23,
     "metadata": {},
     "output_type": "execute_result"
    }
   ],
   "source": [
    "np.mean(mwlist1)"
   ]
  },
  {
   "cell_type": "code",
   "execution_count": 31,
   "id": "e6be9ad1-457d-4f9c-82c3-9e4e8660c140",
   "metadata": {},
   "outputs": [],
   "source": [
    "mwlist2=[]\n",
    "\n",
    "#3 possibilities to pair 2 jets:j1j2, j1j3, j2j3\n",
    "mwlist2 = []\n",
    "for line in dataarray:\n",
    "    mj1j3= np.sqrt((line[13]+line[21])**2-(line[14]+line[22])**2-(line[15]+line[23])**2-(line[16]+line[24])**2)/1000\n",
    "    if abs(mj1j3-80)<40: #filtered the data \n",
    "        mwlist2.append(mj1j3) # added values in a list\n",
    "\n",
    "        "
   ]
  },
  {
   "cell_type": "code",
   "execution_count": 32,
   "id": "ac7f068d-c854-4530-8b28-601ec10b9ad9",
   "metadata": {},
   "outputs": [
    {
     "data": {
      "text/plain": [
       "81.68432650356482"
      ]
     },
     "execution_count": 32,
     "metadata": {},
     "output_type": "execute_result"
    }
   ],
   "source": [
    "np.mean(mwlist2)"
   ]
  },
  {
   "cell_type": "code",
   "execution_count": 37,
   "id": "48baba1a-3f57-4de5-acb6-172d8bd7fc07",
   "metadata": {},
   "outputs": [
    {
     "data": {
      "text/plain": [
       "78.58913503350712"
      ]
     },
     "execution_count": 37,
     "metadata": {},
     "output_type": "execute_result"
    }
   ],
   "source": [
    "mwlist3=[]\n",
    "\n",
    "#3 possibilities to pair 2 jets:j1j2, j1j3, j2j3\n",
    "mwlist3 = []\n",
    "for line in dataarray:\n",
    "    mj2j3= np.sqrt((line[17]+line[21])**2-(line[18]+line[22])**2-(line[19]+line[23])**2-(line[20]+line[24])**2)/1000\n",
    "    if abs(mj2j3-80)<40: #filtered the data \n",
    "        mwlist3.append(mj2j3) # added values in a list\n",
    "np.mean(mwlist3)"
   ]
  },
  {
   "cell_type": "code",
   "execution_count": 34,
   "id": "76b88453-bd7d-4d5f-adda-88138aca2342",
   "metadata": {},
   "outputs": [
    {
     "data": {
      "text/plain": [
       "nan"
      ]
     },
     "execution_count": 34,
     "metadata": {},
     "output_type": "execute_result"
    }
   ],
   "source": []
  },
  {
   "cell_type": "code",
   "execution_count": 35,
   "id": "14dad54b-26e1-49e0-9156-46944821c446",
   "metadata": {},
   "outputs": [
    {
     "data": {
      "text/plain": [
       "nan"
      ]
     },
     "execution_count": 35,
     "metadata": {},
     "output_type": "execute_result"
    }
   ],
   "source": []
  },
  {
   "cell_type": "code",
   "execution_count": 56,
   "id": "26eff83e-403b-4806-9f22-774ab186fb09",
   "metadata": {},
   "outputs": [
    {
     "data": {
      "text/plain": [
       "188.9228820691604"
      ]
     },
     "execution_count": 56,
     "metadata": {},
     "output_type": "execute_result"
    }
   ],
   "source": [
    "mwlist4 = []\n",
    "#B1\n",
    "for line in dataarray:\n",
    "    mj1j2b1= np.sqrt((line[5]+line[13]+line[17])**2-(line[6]+line[14]+line[18])**2-(line[7]+line[15]+line[19])**2-(line[8]+line[16]+line[20])**2)/1000\n",
    "    if abs(mj1j2b1)<250: #filtered the data \n",
    "        mwlist4.append(mj1j2b1) # added values in a list\n",
    "np.mean(mwlist4)"
   ]
  },
  {
   "cell_type": "code",
   "execution_count": 57,
   "id": "0a34c90a-132f-49f7-a138-dbc6c0e491e1",
   "metadata": {},
   "outputs": [
    {
     "data": {
      "text/plain": [
       "174.37109069219977"
      ]
     },
     "execution_count": 57,
     "metadata": {},
     "output_type": "execute_result"
    }
   ],
   "source": [
    "mwlist5 = []\n",
    "#B2\n",
    "for line in dataarray:\n",
    "    mj1j2b2= np.sqrt((line[9]+line[13]+line[17])**2-(line[10]+line[14]+line[18])**2-(line[11]+line[15]+line[19])**2-(line[12]+line[16]+line[20])**2)/1000\n",
    "    if abs(mj1j2b2)<250: #filtered the data \n",
    "        mwlist5.append(mj1j2b2) # added values in a list\n",
    "np.mean(mwlist5)"
   ]
  },
  {
   "cell_type": "code",
   "execution_count": null,
   "id": "b8853ae4-eaf3-4ff1-9bb2-82e7e655a0e0",
   "metadata": {},
   "outputs": [],
   "source": []
  }
 ],
 "metadata": {
  "kernelspec": {
   "display_name": "Python 3",
   "language": "python",
   "name": "python3"
  },
  "language_info": {
   "codemirror_mode": {
    "name": "ipython",
    "version": 3
   },
   "file_extension": ".py",
   "mimetype": "text/x-python",
   "name": "python",
   "nbconvert_exporter": "python",
   "pygments_lexer": "ipython3",
   "version": "3.8.8"
  }
 },
 "nbformat": 4,
 "nbformat_minor": 5
}
